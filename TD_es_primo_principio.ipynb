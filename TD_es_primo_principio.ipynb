{
 "cells": [
  {
   "cell_type": "markdown",
   "id": "f7bdc5d8",
   "metadata": {},
   "source": [
    "![](./8.1.png)"
   ]
  },
  {
   "cell_type": "markdown",
   "id": "03981323",
   "metadata": {},
   "source": [
    "![](8.1_sol.png)"
   ]
  },
  {
   "cell_type": "markdown",
   "id": "3740abb0",
   "metadata": {},
   "source": [
    "![](./8.2.png)"
   ]
  },
  {
   "cell_type": "markdown",
   "id": "d6a37d5a",
   "metadata": {},
   "source": [
    "![](./8.2_sol_1.png)"
   ]
  },
  {
   "cell_type": "markdown",
   "id": "6928dcfb",
   "metadata": {},
   "source": [
    "![](./8.2_sol_2.png)"
   ]
  },
  {
   "cell_type": "markdown",
   "id": "5a683163",
   "metadata": {},
   "source": [
    "![](./8.3.png)"
   ]
  },
  {
   "cell_type": "markdown",
   "id": "4f324c63",
   "metadata": {},
   "source": [
    "![](./8.3_sol_1.png)"
   ]
  },
  {
   "cell_type": "markdown",
   "id": "6310a5cc",
   "metadata": {},
   "source": [
    "![](./8.3_sol_2.png)"
   ]
  },
  {
   "cell_type": "markdown",
   "id": "bac67505",
   "metadata": {},
   "source": [
    "![](./8.4.png)"
   ]
  },
  {
   "cell_type": "markdown",
   "id": "a10b2df2",
   "metadata": {},
   "source": [
    "![](./8.4_sol_1.png)"
   ]
  },
  {
   "cell_type": "markdown",
   "id": "d0f94c86",
   "metadata": {},
   "source": [
    "![](./8.4_sol_2.png)"
   ]
  },
  {
   "cell_type": "markdown",
   "id": "151116fc",
   "metadata": {},
   "source": [
    "![](./8.5.png)"
   ]
  },
  {
   "cell_type": "markdown",
   "id": "52c75920",
   "metadata": {},
   "source": [
    "![](./8.5_sol_1.png)"
   ]
  },
  {
   "cell_type": "markdown",
   "id": "2e01d3d4",
   "metadata": {},
   "source": [
    "![](./8.5_sol_2.png)"
   ]
  },
  {
   "cell_type": "markdown",
   "id": "de6bfad4",
   "metadata": {},
   "source": [
    "![](./8.5_sol_3.png)"
   ]
  },
  {
   "cell_type": "markdown",
   "id": "81c6768f",
   "metadata": {},
   "source": [
    "![](./8.6.png)"
   ]
  },
  {
   "cell_type": "markdown",
   "id": "09512269",
   "metadata": {},
   "source": [
    "![](./8.6_sol_1.png)"
   ]
  },
  {
   "cell_type": "markdown",
   "id": "c707747f",
   "metadata": {},
   "source": [
    "![](./8.6_sol_2.png)"
   ]
  },
  {
   "cell_type": "markdown",
   "id": "36c9fddc",
   "metadata": {},
   "source": [
    "![](./8.6_sol_3.png)"
   ]
  },
  {
   "cell_type": "markdown",
   "id": "e77cb703",
   "metadata": {},
   "source": [
    "![](./8.7.png)"
   ]
  },
  {
   "cell_type": "markdown",
   "id": "ba828bc6",
   "metadata": {},
   "source": [
    "![](./8.7_sol_1.png)"
   ]
  },
  {
   "cell_type": "markdown",
   "id": "5d96b357",
   "metadata": {},
   "source": [
    "![](./8.7_sol_2.png)"
   ]
  },
  {
   "cell_type": "markdown",
   "id": "2632c942",
   "metadata": {},
   "source": [
    "![](./8.7_sol_3.png)"
   ]
  },
  {
   "cell_type": "markdown",
   "id": "a9b56485",
   "metadata": {},
   "source": [
    "![](./8.8.png)"
   ]
  },
  {
   "cell_type": "markdown",
   "id": "b1d51c2e",
   "metadata": {},
   "source": [
    "![](./8.8_sol_1.png)"
   ]
  },
  {
   "cell_type": "markdown",
   "id": "56ad91bb",
   "metadata": {},
   "source": [
    "![](./8.8_sol_2.png)"
   ]
  },
  {
   "cell_type": "markdown",
   "id": "47fb070b",
   "metadata": {},
   "source": [
    "![](./8.8_sol_3.png)"
   ]
  },
  {
   "cell_type": "markdown",
   "id": "be342d03",
   "metadata": {},
   "source": [
    "![](./8.8_sol_4.png)"
   ]
  },
  {
   "cell_type": "markdown",
   "id": "ff9b38d2",
   "metadata": {},
   "source": [
    "![](./8.8_sol_5.png)"
   ]
  },
  {
   "cell_type": "markdown",
   "id": "1356c4eb",
   "metadata": {},
   "source": [
    "![](./8.8_sol_6.png)"
   ]
  },
  {
   "cell_type": "markdown",
   "id": "87a78edf",
   "metadata": {},
   "source": [
    "![](./8.8_sol_7.png)"
   ]
  },
  {
   "cell_type": "markdown",
   "id": "7a1d42de",
   "metadata": {},
   "source": [
    "![](./8.9.png)"
   ]
  },
  {
   "cell_type": "markdown",
   "id": "a2688930",
   "metadata": {},
   "source": [
    "![](./8.9_sol_1.png)"
   ]
  },
  {
   "cell_type": "markdown",
   "id": "42f21171",
   "metadata": {},
   "source": [
    "![](./8.9_sol_2.png)"
   ]
  },
  {
   "cell_type": "markdown",
   "id": "f47613c8",
   "metadata": {},
   "source": [
    "![](./8.9_sol_3.png)"
   ]
  }
 ],
 "metadata": {
  "kernelspec": {
   "display_name": "Python 3",
   "language": "python",
   "name": "python3"
  },
  "language_info": {
   "codemirror_mode": {
    "name": "ipython",
    "version": 3
   },
   "file_extension": ".py",
   "mimetype": "text/x-python",
   "name": "python",
   "nbconvert_exporter": "python",
   "pygments_lexer": "ipython3",
   "version": "3.9.2"
  }
 },
 "nbformat": 4,
 "nbformat_minor": 5
}
