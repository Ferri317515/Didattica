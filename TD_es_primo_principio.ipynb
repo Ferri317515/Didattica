{
 "cells": [
  {
   "cell_type": "markdown",
   "id": "32ee40a0",
   "metadata": {},
   "source": [
    "![](./img/8.1.png)"
   ]
  },
  {
   "cell_type": "markdown",
   "id": "2a121ad2",
   "metadata": {},
   "source": [
    "![](./img/8.1.png)"
   ]
  },
  {
   "cell_type": "markdown",
   "id": "7a5b6e48",
   "metadata": {},
   "source": [
    "![](./img/8.1_sol.png)"
   ]
  },
  {
   "cell_type": "markdown",
   "id": "4dc30da4",
   "metadata": {},
   "source": [
    "![](./img/8.2.png)"
   ]
  },
  {
   "cell_type": "markdown",
   "id": "9d550e91",
   "metadata": {},
   "source": [
    "![](./img/8.2_sol_1.png)"
   ]
  },
  {
   "cell_type": "markdown",
   "id": "455d0653",
   "metadata": {},
   "source": [
    "![](./img/8.2_sol_2.png)"
   ]
  },
  {
   "cell_type": "markdown",
   "id": "07ee41e6",
   "metadata": {},
   "source": [
    "![](./img/8.3.png)"
   ]
  },
  {
   "cell_type": "markdown",
   "id": "7518e189",
   "metadata": {},
   "source": [
    "![](./img/8.3_sol_1.png)"
   ]
  },
  {
   "cell_type": "markdown",
   "id": "8b11f62c",
   "metadata": {},
   "source": [
    "![](./img/8.3_sol_2.png)"
   ]
  },
  {
   "cell_type": "markdown",
   "id": "b32b37b6",
   "metadata": {},
   "source": [
    "![](./img/8.4.png)"
   ]
  },
  {
   "cell_type": "markdown",
   "id": "7926ef5c",
   "metadata": {},
   "source": [
    "![](./img/8.4_sol_1.png)"
   ]
  },
  {
   "cell_type": "markdown",
   "id": "9225b3a5",
   "metadata": {},
   "source": [
    "![](./img/8.4_sol_2.png)"
   ]
  },
  {
   "cell_type": "markdown",
   "id": "113aee0d",
   "metadata": {},
   "source": [
    "![](./img/8.5.png)"
   ]
  },
  {
   "cell_type": "markdown",
   "id": "fc7563e4",
   "metadata": {},
   "source": [
    "![](./img/8.5_sol_1.png)"
   ]
  },
  {
   "cell_type": "markdown",
   "id": "6d20afa4",
   "metadata": {},
   "source": [
    "![](./img/8.5_sol_2.png)"
   ]
  },
  {
   "cell_type": "markdown",
   "id": "adf5e1dc",
   "metadata": {},
   "source": [
    "![](./img/8.5_sol_3.png)"
   ]
  },
  {
   "cell_type": "markdown",
   "id": "a716a002",
   "metadata": {},
   "source": [
    "![](./img/8.6.png)"
   ]
  },
  {
   "cell_type": "markdown",
   "id": "810b5161",
   "metadata": {},
   "source": [
    "![](./img/8.6_sol_1.png)"
   ]
  },
  {
   "cell_type": "markdown",
   "id": "ee652f52",
   "metadata": {},
   "source": [
    "![](./img/8.6_sol_2.png)"
   ]
  },
  {
   "cell_type": "markdown",
   "id": "5d37d3be",
   "metadata": {},
   "source": [
    "![](./img/8.6_sol_3.png)"
   ]
  },
  {
   "cell_type": "markdown",
   "id": "5442a26b",
   "metadata": {},
   "source": [
    "![](./img/8.7.png)"
   ]
  },
  {
   "cell_type": "markdown",
   "id": "e7b96c17",
   "metadata": {},
   "source": [
    "![](./img/8.7_sol_1.png)"
   ]
  },
  {
   "cell_type": "markdown",
   "id": "e45bbaa8",
   "metadata": {},
   "source": [
    "![](./img/8.7_sol_2.png)"
   ]
  },
  {
   "cell_type": "markdown",
   "id": "46a2b4b7",
   "metadata": {},
   "source": [
    "![](./img/8.7_sol_3.png)"
   ]
  },
  {
   "cell_type": "markdown",
   "id": "b795165d",
   "metadata": {},
   "source": [
    "![](./img/8.8.png)"
   ]
  },
  {
   "cell_type": "markdown",
   "id": "f45b3a56",
   "metadata": {},
   "source": [
    "![](./img/8.8_sol_1.png)"
   ]
  },
  {
   "cell_type": "markdown",
   "id": "3252986b",
   "metadata": {},
   "source": [
    "![](./img/8.8_sol_2.png)"
   ]
  },
  {
   "cell_type": "markdown",
   "id": "c4f33543",
   "metadata": {},
   "source": [
    "![](./img/8.8_sol_3.png)"
   ]
  },
  {
   "cell_type": "markdown",
   "id": "d8a6c85a",
   "metadata": {},
   "source": [
    "![](./img/8.8_sol_4.png)"
   ]
  },
  {
   "cell_type": "markdown",
   "id": "467d73e2",
   "metadata": {},
   "source": [
    "![](./img/8.8_sol_5.png)"
   ]
  },
  {
   "cell_type": "markdown",
   "id": "a8704aa8",
   "metadata": {},
   "source": [
    "![](./img/8.8_sol_6.png)"
   ]
  },
  {
   "cell_type": "markdown",
   "id": "50b17114",
   "metadata": {},
   "source": [
    "![](./img/8.8_sol_7.png)"
   ]
  },
  {
   "cell_type": "markdown",
   "id": "f091e13a",
   "metadata": {},
   "source": [
    "![](./img/8.9.png)"
   ]
  },
  {
   "cell_type": "markdown",
   "id": "d1fdf49e",
   "metadata": {},
   "source": [
    "![](./img/8.9_sol_1.png)"
   ]
  },
  {
   "cell_type": "markdown",
   "id": "51ce0838",
   "metadata": {},
   "source": [
    "![](./img/8.9_sol_2.png)"
   ]
  },
  {
   "cell_type": "markdown",
   "id": "b1a6b5ae",
   "metadata": {},
   "source": [
    "![](./img/8.9_sol_3.png)"
   ]
  }
 ],
 "metadata": {
  "kernelspec": {
   "display_name": "Python 3",
   "language": "python",
   "name": "python3"
  },
  "language_info": {
   "codemirror_mode": {
    "name": "ipython",
    "version": 3
   },
   "file_extension": ".py",
   "mimetype": "text/x-python",
   "name": "python",
   "nbconvert_exporter": "python",
   "pygments_lexer": "ipython3",
   "version": "3.9.2"
  }
 },
 "nbformat": 4,
 "nbformat_minor": 5
}
